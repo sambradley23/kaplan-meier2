{
 "cells": [
  {
   "cell_type": "markdown",
   "metadata": {},
   "source": [
    "# Import packages"
   ]
  },
  {
   "cell_type": "code",
   "execution_count": 1,
   "metadata": {},
   "outputs": [
    {
     "name": "stdout",
     "output_type": "stream",
     "text": [
      "Requirement already satisfied: imutils in c:\\users\\sam bradley\\appdata\\local\\programs\\python\\python39\\lib\\site-packages (0.5.4)"
     ]
    },
    {
     "name": "stderr",
     "output_type": "stream",
     "text": [
      "WARNING: You are using pip version 21.0.1; however, version 21.1.1 is available.\n",
      "You should consider upgrading via the 'c:\\users\\sam bradley\\appdata\\local\\programs\\python\\python39\\python.exe -m pip install --upgrade pip' command.\n"
     ]
    },
    {
     "name": "stdout",
     "output_type": "stream",
     "text": [
      "\n",
      "Requirement already satisfied: torch in c:\\users\\sam bradley\\appdata\\local\\programs\\python\\python39\\lib\\site-packages (1.8.1)"
     ]
    },
    {
     "name": "stderr",
     "output_type": "stream",
     "text": [
      "WARNING: You are using pip version 21.0.1; however, version 21.1.1 is available.\n",
      "You should consider upgrading via the 'c:\\users\\sam bradley\\appdata\\local\\programs\\python\\python39\\python.exe -m pip install --upgrade pip' command.\n"
     ]
    },
    {
     "name": "stdout",
     "output_type": "stream",
     "text": [
      "\n",
      "Requirement already satisfied: typing-extensions in c:\\users\\sam bradley\\appdata\\local\\programs\\python\\python39\\lib\\site-packages (from torch) (3.7.4.3)\n",
      "Requirement already satisfied: numpy in c:\\users\\sam bradley\\appdata\\local\\programs\\python\\python39\\lib\\site-packages (from torch) (1.19.5)\n",
      "Requirement already satisfied: fastai in c:\\users\\sam bradley\\appdata\\local\\programs\\python\\python39\\lib\\site-packages (2.1.10)\n",
      "Requirement already satisfied: spacy in c:\\users\\sam bradley\\appdata\\local\\programs\\python\\python39\\lib\\site-packages (from fastai) (3.0.5)\n",
      "Requirement already satisfied: pip in c:\\users\\sam bradley\\appdata\\local\\programs\\python\\python39\\lib\\site-packages (from fastai) (21.0.1)\n",
      "Requirement already satisfied: matplotlib in c:\\users\\sam bradley\\appdata\\local\\programs\\python\\python39\\lib\\site-packages (from fastai) (3.4.1)\n",
      "Requirement already satisfied: fastcore>=1.3.8 in c:\\users\\sam bradley\\appdata\\local\\programs\\python\\python39\\lib\\site-packages (from fastai) (1.3.19)\n",
      "Requirement already satisfied: pyyaml in c:\\users\\sam bradley\\appdata\\local\\programs\\python\\python39\\lib\\site-packages (from fastai) (5.4.1)\n",
      "Requirement already satisfied: scipy in c:\\users\\sam bradley\\appdata\\local\\programs\\python\\python39\\lib\\site-packages (from fastai) (1.6.2)\n",
      "Requirement already satisfied: requests in c:\\users\\sam bradley\\appdata\\local\\programs\\python\\python39\\lib\\site-packages (from fastai) (2.25.1)\n",
      "Requirement already satisfied: packaging in c:\\users\\sam bradley\\appdata\\local\\programs\\python\\python39\\lib\\site-packages (from fastai) (20.9)\n",
      "Requirement already satisfied: pillow>6.0.0 in c:\\users\\sam bradley\\appdata\\local\\programs\\python\\python39\\lib\\site-packages (from fastai) (8.2.0)\n",
      "Requirement already satisfied: torchvision>=0.8 in c:\\users\\sam bradley\\appdata\\local\\programs\\python\\python39\\lib\\site-packages (from fastai) (0.9.1)\n",
      "Requirement already satisfied: fastprogress>=0.2.4 in c:\\users\\sam bradley\\appdata\\local\\programs\\python\\python39\\lib\\site-packages (from fastai) (1.0.0)\n",
      "Requirement already satisfied: torch>=1.7.0 in c:\\users\\sam bradley\\appdata\\local\\programs\\python\\python39\\lib\\site-packages (from fastai) (1.8.1)\n",
      "Requirement already satisfied: scikit-learn in c:\\users\\sam bradley\\appdata\\local\\programs\\python\\python39\\lib\\site-packages (from fastai) (0.24.1)\n",
      "Requirement already satisfied: pandas in c:\\users\\sam bradley\\appdata\\local\\programs\\python\\python39\\lib\\site-packages (from fastai) (1.2.3)\n",
      "Requirement already satisfied: numpy in c:\\users\\sam bradley\\appdata\\local\\programs\\python\\python39\\lib\\site-packages (from fastprogress>=0.2.4->fastai) (1.19.5)\n",
      "Requirement already satisfied: typing-extensions in c:\\users\\sam bradley\\appdata\\local\\programs\\python\\python39\\lib\\site-packages (from torch>=1.7.0->fastai) (3.7.4.3)\n",
      "Requirement already satisfied: python-dateutil>=2.7 in c:\\users\\sam bradley\\appdata\\local\\programs\\python\\python39\\lib\\site-packages (from matplotlib->fastai) (2.8.1)\n",
      "Requirement already satisfied: kiwisolver>=1.0.1 in c:\\users\\sam bradley\\appdata\\local\\programs\\python\\python39\\lib\\site-packages (from matplotlib->fastai) (1.3.1)\n",
      "Requirement already satisfied: cycler>=0.10 in c:\\users\\sam bradley\\appdata\\local\\programs\\python\\python39\\lib\\site-packages (from matplotlib->fastai) (0.10.0)\n",
      "Requirement already satisfied: pyparsing>=2.2.1 in c:\\users\\sam bradley\\appdata\\local\\programs\\python\\python39\\lib\\site-packages (from matplotlib->fastai) (2.4.7)\n",
      "Requirement already satisfied: six in c:\\users\\sam bradley\\appdata\\local\\programs\\python\\python39\\lib\\site-packages (from cycler>=0.10->matplotlib->fastai) (1.15.0)\n",
      "Requirement already satisfied: pytz>=2017.3 in c:\\users\\sam bradley\\appdata\\local\\programs\\python\\python39\\lib\\site-packages (from pandas->fastai) (2021.1)\n",
      "Requirement already satisfied: chardet<5,>=3.0.2 in c:\\users\\sam bradley\\appdata\\local\\programs\\python\\python39\\lib\\site-packages (from requests->fastai) (4.0.0)\n",
      "Requirement already satisfied: urllib3<1.27,>=1.21.1 in c:\\users\\sam bradley\\appdata\\local\\programs\\python\\python39\\lib\\site-packages (from requests->fastai) (1.26.4)\n",
      "Requirement already satisfied: certifi>=2017.4.17 in c:\\users\\sam bradley\\appdata\\local\\programs\\python\\python39\\lib\\site-packages (from requests->fastai) (2020.12.5)\n",
      "Requirement already satisfied: idna<3,>=2.5 in c:\\users\\sam bradley\\appdata\\local\\programs\\python\\python39\\lib\\site-packages (from requests->fastai) (2.10)\n",
      "Requirement already satisfied: joblib>=0.11 in c:\\users\\sam bradley\\appdata\\local\\programs\\python\\python39\\lib\\site-packages (from scikit-learn->fastai) (1.0.1)\n",
      "Requirement already satisfied: threadpoolctl>=2.0.0 in c:\\users\\sam bradley\\appdata\\local\\programs\\python\\python39\\lib\\site-packages (from scikit-learn->fastai) (2.1.0)\n",
      "Requirement already satisfied: blis<0.8.0,>=0.4.0 in c:\\users\\sam bradley\\appdata\\local\\programs\\python\\python39\\lib\\site-packages (from spacy->fastai) (0.7.4)\n",
      "Requirement already satisfied: typer<0.4.0,>=0.3.0 in c:\\users\\sam bradley\\appdata\\local\\programs\\python\\python39\\lib\\site-packages (from spacy->fastai) (0.3.2)\n",
      "Requirement already satisfied: catalogue<2.1.0,>=2.0.1 in c:\\users\\sam bradley\\appdata\\local\\programs\\python\\python39\\lib\\site-packages (from spacy->fastai) (2.0.1)\n",
      "Requirement already satisfied: pathy>=0.3.5 in c:\\users\\sam bradley\\appdata\\local\\programs\\python\\python39\\lib\\site-packages (from spacy->fastai) (0.4.0)\n",
      "Requirement already satisfied: pydantic<1.8.0,>=1.7.1 in c:\\users\\sam bradley\\appdata\\local\\programs\\python\\python39\\lib\\site-packages (from spacy->fastai) (1.7.3)\n",
      "Requirement already satisfied: thinc<8.1.0,>=8.0.2 in c:\\users\\sam bradley\\appdata\\local\\programs\\python\\python39\\lib\\site-packages (from spacy->fastai) (8.0.2)\n",
      "Requirement already satisfied: spacy-legacy<3.1.0,>=3.0.0 in c:\\users\\sam bradley\\appdata\\local\\programs\\python\\python39\\lib\\site-packages (from spacy->fastai) (3.0.2)\n",
      "Requirement already satisfied: wasabi<1.1.0,>=0.8.1 in c:\\users\\sam bradley\\appdata\\local\\programs\\python\\python39\\lib\\site-packages (from spacy->fastai) (0.8.2)\n",
      "Requirement already satisfied: cymem<2.1.0,>=2.0.2 in c:\\users\\sam bradley\\appdata\\local\\programs\\python\\python39\\lib\\site-packages (from spacy->fastai) (2.0.5)\n",
      "Requirement already satisfied: murmurhash<1.1.0,>=0.28.0 in c:\\users\\sam bradley\\appdata\\local\\programs\\python\\python39\\lib\\site-packages (from spacy->fastai) (1.0.5)\n",
      "Requirement already satisfied: tqdm<5.0.0,>=4.38.0 in c:\\users\\sam bradley\\appdata\\local\\programs\\python\\python39\\lib\\site-packages (from spacy->fastai) (4.60.0)\n",
      "Requirement already satisfied: preshed<3.1.0,>=3.0.2 in c:\\users\\sam bradley\\appdata\\local\\programs\\python\\python39\\lib\\site-packages (from spacy->fastai) (3.0.5)\n",
      "Requirement already satisfied: jinja2 in c:\\users\\sam bradley\\appdata\\local\\programs\\python\\python39\\lib\\site-packages (from spacy->fastai) (2.11.3)\n",
      "Requirement already satisfied: srsly<3.0.0,>=2.4.0 in c:\\users\\sam bradley\\appdata\\local\\programs\\python\\python39\\lib\\site-packages (from spacy->fastai) (2.4.0)\n",
      "Requirement already satisfied: setuptools in c:\\users\\sam bradley\\appdata\\local\\programs\\python\\python39\\lib\\site-packages (from spacy->fastai) (49.2.1)\n",
      "Requirement already satisfied: smart-open<4.0.0,>=2.2.0 in c:\\users\\sam bradley\\appdata\\local\\programs\\python\\python39\\lib\\site-packages (from pathy>=0.3.5->spacy->fastai) (3.0.0)\n",
      "Requirement already satisfied: click<7.2.0,>=7.1.1 in c:\\users\\sam bradley\\appdata\\local\\programs\\python\\python39\\lib\\site-packages (from typer<0.4.0,>=0.3.0->spacy->fastai) (7.1.2)\n",
      "Requirement already satisfied: MarkupSafe>=0.23 in c:\\users\\sam bradley\\appdata\\local\\programs\\python\\python39\\lib\\site-packages (from jinja2->spacy->fastai) (1.1.1)\n"
     ]
    },
    {
     "name": "stderr",
     "output_type": "stream",
     "text": [
      "WARNING: You are using pip version 21.0.1; however, version 21.1.1 is available.\n",
      "You should consider upgrading via the 'c:\\users\\sam bradley\\appdata\\local\\programs\\python\\python39\\python.exe -m pip install --upgrade pip' command.\n",
      "ERROR: pip's dependency resolver does not currently take into account all the packages that are installed. This behaviour is the source of the following dependency conflicts.\n",
      "voila 0.2.7 requires nbconvert<7,>=6.0.0, but you have nbconvert 5.6.1 which is incompatible.\n"
     ]
    },
    {
     "name": "stdout",
     "output_type": "stream",
     "text": [
      "Requirement already satisfied: graphviz in c:\\users\\sam bradley\\appdata\\local\\programs\\python\\python39\\lib\\site-packages (0.16)\n"
     ]
    },
    {
     "name": "stderr",
     "output_type": "stream",
     "text": [
      "WARNING: You are using pip version 21.0.1; however, version 21.1.1 is available.\n",
      "You should consider upgrading via the 'c:\\users\\sam bradley\\appdata\\local\\programs\\python\\python39\\python.exe -m pip install --upgrade pip' command.\n"
     ]
    }
   ],
   "source": [
    "#!pip install opencv-python\n",
    "#!pip install pytesseract\n",
    "!pip install imutils\n",
    "#!pip install tensorflow\n",
    "#!aws sts get-caller-identity - not a package, but tells you role in AWS\n",
    "!pip install torch\n",
    "!pip install fastai\n",
    "!pip install -Uqq fastbook\n",
    "!pip install graphviz"
   ]
  },
  {
   "cell_type": "code",
   "execution_count": 2,
   "metadata": {},
   "outputs": [
    {
     "name": "stdout",
     "output_type": "stream",
     "text": [
      "INFO:tensorflow:Enabling eager execution\n",
      "INFO:tensorflow:Enabling v2 tensorshape\n",
      "INFO:tensorflow:Enabling resource variables\n",
      "INFO:tensorflow:Enabling tensor equality\n",
      "INFO:tensorflow:Enabling control flow v2\n"
     ]
    }
   ],
   "source": [
    "import PIL #\n",
    "import numpy as np\n",
    "import glob\n",
    "# nltk.download('punkt')\n",
    "#import nltk\n",
    "import re\n",
    "import cv2\n",
    "import imutils\n",
    "import tensorflow as tf\n",
    "import os\n",
    "#from nltk.tokenize import word_tokenize, sent_tokenize\n",
    "import random\n",
    "import pytesseract\n",
    "from sklearn.feature_extraction.text import CountVectorizer\n",
    "from sklearn.svm import LinearSVC, SVC\n",
    "import pickle\n",
    "from sklearn.metrics import confusion_matrix, balanced_accuracy_score, f1_score, make_scorer, accuracy_score, recall_score, precision_score, roc_auc_score\n",
    "import pandas as pd\n",
    "import torch\n",
    "import matplotlib.pyplot as plt\n",
    "import fastai\n",
    "import fastbook\n",
    "from fastbook import *\n",
    "from fastai.vision import *\n",
    "from fastai.vision.widgets import *\n",
    "fastbook.setup_book()"
   ]
  },
  {
   "cell_type": "markdown",
   "metadata": {},
   "source": [
    "### Bag of words functions"
   ]
  },
  {
   "cell_type": "code",
   "execution_count": 3,
   "metadata": {},
   "outputs": [],
   "source": [
    "# augments the image to make it easier to extract text\n",
    "def process_img(img):\n",
    "    img = cv2.cvtColor(img,cv2.COLOR_BGR2GRAY) # convert to grayscale\n",
    "    img = imutils.rotate_bound(img, 90) # rotate \n",
    "    img = cv2.resize(img, None, fx=3, fy=3, interpolation=cv2.INTER_CUBIC) # make 3 times larger\n",
    "    img = cv2.GaussianBlur(img,(3,3),0) # add gaussian blur after enlarging\n",
    "    return img\n",
    "    \n",
    "# extracts the text and returns a set of unique words extracted from the text\n",
    "def extract_words(img):\n",
    "    raw_words = pytesseract.image_to_string(img)\n",
    "    # Removes non-alphanumeric characters and underscores and makes lowercase\n",
    "    pattern = re.compile('[\\W_]+')\n",
    "    words = pattern.sub(' ', raw_words).lower()\n",
    "\n",
    "    tokens = set(word_tokenize(words))\n",
    "    #print('extracted words:', words)\n",
    "    return tokens\n",
    "\n",
    "def clean_words(word_data):\n",
    "    # remove words that are 2 chars or lower to reduce noise\n",
    "    word_data_remove_2char = [ x for x in word_data if len(x) > 2]\n",
    "    #word_data_remove_2char_google = [ set(x for x in r if len(x) > 2) for r in word_data_google]\n",
    "\n",
    "    # format list of token sets into a list of strings which are tokens joined by spaces\n",
    "    # [ set('a', 'b'), set ( 'c', 'd', 'e')]  into   ['a b', 'c d e']\n",
    "    word_data_formatted = ' '.join(word_data_remove_2char)\n",
    "    #word_data_google_formatted = [ ' '.join(sets) for sets in word_data_remove_2char_google]\n",
    "    return word_data_formatted\n",
    "\n",
    "def file_to_sentence(a):\n",
    "    # given a file path, apply all transforms and returns a single string\n",
    "    # with all extracted words over 2 characters\n",
    "    a = load_img(a)\n",
    "    a = process_img(a)\n",
    "    a = extract_words(a)\n",
    "    a = clean_words(list(a))\n",
    "    return a    "
   ]
  },
  {
   "cell_type": "markdown",
   "metadata": {},
   "source": [
    "# Creating an app"
   ]
  },
  {
   "cell_type": "markdown",
   "metadata": {},
   "source": [
    "## Functions"
   ]
  },
  {
   "cell_type": "code",
   "execution_count": 4,
   "metadata": {},
   "outputs": [],
   "source": [
    "def img_to_sentence(pil_img):\n",
    "    # given a file path, apply all transforms and returns a single string\n",
    "    # with all extracted words over 2 characters\n",
    "    \n",
    "    a = np.array(pil_img)\n",
    "    a = process_img(a)\n",
    "    a = extract_words(a)\n",
    "    a = clean_words(list(a))\n",
    "    return a    \n",
    "\n",
    "def bow_predictor_app_inp(pil_img):\n",
    "    # input either a single file string or a list of file strings to be processed\n",
    "    # returns a prediction (1=KM, 0=0ther), the probability the image is KM, and the max probability ( probability of predicted class -\n",
    "    # so if prediction is 0=other, max prob will tell you the probabilty that the curve is 0)\n",
    "    \n",
    "    # Load linear support vector classifier \n",
    "    with open(\"Y. model - bag of words2.pkl\", 'rb') as file:  \n",
    "        bow_model = pickle.load(file)\n",
    "\n",
    "    # Load count vectorizer\n",
    "    with open('Y. Count vectorizer vocab.pkl', 'rb') as f:\n",
    "        vectorizer_vocab = pickle.load(f)\n",
    "    \n",
    "    # get an error if only one img is passed and use map functionality\n",
    "#     try:\n",
    "#         X_bow = list(map(file_to_sentence, X_input))\n",
    "#     except:\n",
    "#         # if single image, make it look like a list\n",
    "#         X_bow = list(map(file_to_sentence, [X_input]))\n",
    "\n",
    "    X_bow = [img_to_sentence(pil_img)]\n",
    "        \n",
    "    vectorizer = CountVectorizer(vocabulary=vectorizer_vocab)\n",
    "    X_bow = vectorizer.transform(X_bow)\n",
    "    \n",
    "    bow_pred = bow_model.predict(X_bow)\n",
    "    bow_prob = bow_model.predict_proba(X_bow)\n",
    "    bow_max_prob = [max(x) for x in bow_prob]\n",
    "    bow_prob = bow_prob[:,1] # probability the graph is KM\n",
    "    \n",
    "    return bow_pred, bow_prob, bow_max_prob\n",
    "\n",
    "def fastai_predictor_app_inp(pil_img):\n",
    "    # input either a single file string or a list of file strings to be processed\n",
    "    # returns a prediction (1=KM, 0=0ther), the probability the image is KM, and the max probability ( probability of predicted class -\n",
    "    # so if prediction is 0=other, max prob will tell you the probabilty that the curve is 0)\n",
    "    X_fastai = pil_img\n",
    "\n",
    "    pred_tensor,pred_bool, fastai_pred = learn_inf.predict(X_fastai)\n",
    "\n",
    "    fastai_pred = pred_tensor[0].item() # 1=KM present 0=KM not present\n",
    "    fastai_prob = prob_tensor[0].item() # prob graph is KM\n",
    "    # fastai_max_prob = max(prob_tensor).numpy() # returns max values from (0 prob, 1prob) tensor for each input\n",
    "\n",
    "    return fastai_pred, fastai_prob\n",
    "\n",
    "\n",
    "def ensemble_predictor_app_inp(pil_img):\n",
    "    # Function that calculates the ensemble prediction by averaging probablities\n",
    "    # from BOW and fastai model. returns prob and prediction\n",
    "    \n",
    "    # Calculate probabilities from 2 models\n",
    "    fastai_pred, fastai_prob, fastai_max_prob = fastai_predictor_app_inp(pil_img)\n",
    "    bow_pred, bow_prob, bow_max_prob= bow_predictor_app_inp(pil_img)\n",
    "    \n",
    "    a = bow_prob\n",
    "    b= fastai_prob\n",
    "    c= [a,b]\n",
    "    \n",
    "    ensemble_prob = np.mean(c, axis=0)\n",
    "    ensemble_pred = np.round(ensemble_prob)\n",
    "    return ensemble_pred,ensemble_prob "
   ]
  },
  {
   "cell_type": "markdown",
   "metadata": {},
   "source": [
    "## Code for app"
   ]
  },
  {
   "cell_type": "markdown",
   "metadata": {},
   "source": [
    "There must be something wrong with the fastai_img_inp code. It works with all predictions that dont use that func. have a look"
   ]
  },
  {
   "cell_type": "code",
   "execution_count": 5,
   "metadata": {},
   "outputs": [
    {
     "ename": "AttributeError",
     "evalue": "Can't get attribute 'get_x' on <module '__main__'>",
     "output_type": "error",
     "traceback": [
      "\u001b[1;31m---------------------------------------------------------------------------\u001b[0m",
      "\u001b[1;31mAttributeError\u001b[0m                            Traceback (most recent call last)",
      "\u001b[1;32m<ipython-input-5-f63d3399239d>\u001b[0m in \u001b[0;36m<module>\u001b[1;34m\u001b[0m\n\u001b[1;32m----> 1\u001b[1;33m \u001b[0mlearn_inf\u001b[0m \u001b[1;33m=\u001b[0m \u001b[0mload_learner\u001b[0m\u001b[1;33m(\u001b[0m\u001b[1;34m'KM_classifier_multilabel_7_epoch.pkl'\u001b[0m\u001b[1;33m)\u001b[0m\u001b[1;33m\u001b[0m\u001b[1;33m\u001b[0m\u001b[0m\n\u001b[0m\u001b[0;32m      2\u001b[0m \u001b[1;33m\u001b[0m\u001b[0m\n\u001b[0;32m      3\u001b[0m \u001b[0mbtn_upload\u001b[0m \u001b[1;33m=\u001b[0m \u001b[0mwidgets\u001b[0m\u001b[1;33m.\u001b[0m\u001b[0mFileUpload\u001b[0m\u001b[1;33m(\u001b[0m\u001b[1;33m)\u001b[0m\u001b[1;33m\u001b[0m\u001b[1;33m\u001b[0m\u001b[0m\n\u001b[0;32m      4\u001b[0m \u001b[0mout_pl\u001b[0m \u001b[1;33m=\u001b[0m \u001b[0mwidgets\u001b[0m\u001b[1;33m.\u001b[0m\u001b[0mOutput\u001b[0m\u001b[1;33m(\u001b[0m\u001b[1;33m)\u001b[0m\u001b[1;33m\u001b[0m\u001b[1;33m\u001b[0m\u001b[0m\n\u001b[0;32m      5\u001b[0m \u001b[0mlbl_pred\u001b[0m \u001b[1;33m=\u001b[0m \u001b[0mwidgets\u001b[0m\u001b[1;33m.\u001b[0m\u001b[0mLabel\u001b[0m\u001b[1;33m(\u001b[0m\u001b[1;33m)\u001b[0m\u001b[1;33m\u001b[0m\u001b[1;33m\u001b[0m\u001b[0m\n",
      "\u001b[1;32mc:\\users\\sam bradley\\appdata\\local\\programs\\python\\python39\\lib\\site-packages\\fastai\\learner.py\u001b[0m in \u001b[0;36mload_learner\u001b[1;34m(fname, cpu, pickle_module)\u001b[0m\n\u001b[0;32m    552\u001b[0m     \u001b[1;34m\"Load a `Learner` object in `fname`, optionally putting it on the `cpu`\"\u001b[0m\u001b[1;33m\u001b[0m\u001b[1;33m\u001b[0m\u001b[0m\n\u001b[0;32m    553\u001b[0m     \u001b[0mdistrib_barrier\u001b[0m\u001b[1;33m(\u001b[0m\u001b[1;33m)\u001b[0m\u001b[1;33m\u001b[0m\u001b[1;33m\u001b[0m\u001b[0m\n\u001b[1;32m--> 554\u001b[1;33m     \u001b[0mres\u001b[0m \u001b[1;33m=\u001b[0m \u001b[0mtorch\u001b[0m\u001b[1;33m.\u001b[0m\u001b[0mload\u001b[0m\u001b[1;33m(\u001b[0m\u001b[0mfname\u001b[0m\u001b[1;33m,\u001b[0m \u001b[0mmap_location\u001b[0m\u001b[1;33m=\u001b[0m\u001b[1;34m'cpu'\u001b[0m \u001b[1;32mif\u001b[0m \u001b[0mcpu\u001b[0m \u001b[1;32melse\u001b[0m \u001b[1;32mNone\u001b[0m\u001b[1;33m,\u001b[0m \u001b[0mpickle_module\u001b[0m\u001b[1;33m=\u001b[0m\u001b[0mpickle_module\u001b[0m\u001b[1;33m)\u001b[0m\u001b[1;33m\u001b[0m\u001b[1;33m\u001b[0m\u001b[0m\n\u001b[0m\u001b[0;32m    555\u001b[0m     \u001b[1;32mif\u001b[0m \u001b[0mhasattr\u001b[0m\u001b[1;33m(\u001b[0m\u001b[0mres\u001b[0m\u001b[1;33m,\u001b[0m \u001b[1;34m'to_fp32'\u001b[0m\u001b[1;33m)\u001b[0m\u001b[1;33m:\u001b[0m \u001b[0mres\u001b[0m \u001b[1;33m=\u001b[0m \u001b[0mres\u001b[0m\u001b[1;33m.\u001b[0m\u001b[0mto_fp32\u001b[0m\u001b[1;33m(\u001b[0m\u001b[1;33m)\u001b[0m\u001b[1;33m\u001b[0m\u001b[1;33m\u001b[0m\u001b[0m\n\u001b[0;32m    556\u001b[0m     \u001b[1;32mif\u001b[0m \u001b[0mcpu\u001b[0m\u001b[1;33m:\u001b[0m \u001b[0mres\u001b[0m\u001b[1;33m.\u001b[0m\u001b[0mdls\u001b[0m\u001b[1;33m.\u001b[0m\u001b[0mcpu\u001b[0m\u001b[1;33m(\u001b[0m\u001b[1;33m)\u001b[0m\u001b[1;33m\u001b[0m\u001b[1;33m\u001b[0m\u001b[0m\n",
      "\u001b[1;32mc:\\users\\sam bradley\\appdata\\local\\programs\\python\\python39\\lib\\site-packages\\torch\\serialization.py\u001b[0m in \u001b[0;36mload\u001b[1;34m(f, map_location, pickle_module, **pickle_load_args)\u001b[0m\n\u001b[0;32m    590\u001b[0m                     \u001b[0mopened_file\u001b[0m\u001b[1;33m.\u001b[0m\u001b[0mseek\u001b[0m\u001b[1;33m(\u001b[0m\u001b[0morig_position\u001b[0m\u001b[1;33m)\u001b[0m\u001b[1;33m\u001b[0m\u001b[1;33m\u001b[0m\u001b[0m\n\u001b[0;32m    591\u001b[0m                     \u001b[1;32mreturn\u001b[0m \u001b[0mtorch\u001b[0m\u001b[1;33m.\u001b[0m\u001b[0mjit\u001b[0m\u001b[1;33m.\u001b[0m\u001b[0mload\u001b[0m\u001b[1;33m(\u001b[0m\u001b[0mopened_file\u001b[0m\u001b[1;33m)\u001b[0m\u001b[1;33m\u001b[0m\u001b[1;33m\u001b[0m\u001b[0m\n\u001b[1;32m--> 592\u001b[1;33m                 \u001b[1;32mreturn\u001b[0m \u001b[0m_load\u001b[0m\u001b[1;33m(\u001b[0m\u001b[0mopened_zipfile\u001b[0m\u001b[1;33m,\u001b[0m \u001b[0mmap_location\u001b[0m\u001b[1;33m,\u001b[0m \u001b[0mpickle_module\u001b[0m\u001b[1;33m,\u001b[0m \u001b[1;33m**\u001b[0m\u001b[0mpickle_load_args\u001b[0m\u001b[1;33m)\u001b[0m\u001b[1;33m\u001b[0m\u001b[1;33m\u001b[0m\u001b[0m\n\u001b[0m\u001b[0;32m    593\u001b[0m         \u001b[1;32mreturn\u001b[0m \u001b[0m_legacy_load\u001b[0m\u001b[1;33m(\u001b[0m\u001b[0mopened_file\u001b[0m\u001b[1;33m,\u001b[0m \u001b[0mmap_location\u001b[0m\u001b[1;33m,\u001b[0m \u001b[0mpickle_module\u001b[0m\u001b[1;33m,\u001b[0m \u001b[1;33m**\u001b[0m\u001b[0mpickle_load_args\u001b[0m\u001b[1;33m)\u001b[0m\u001b[1;33m\u001b[0m\u001b[1;33m\u001b[0m\u001b[0m\n\u001b[0;32m    594\u001b[0m \u001b[1;33m\u001b[0m\u001b[0m\n",
      "\u001b[1;32mc:\\users\\sam bradley\\appdata\\local\\programs\\python\\python39\\lib\\site-packages\\torch\\serialization.py\u001b[0m in \u001b[0;36m_load\u001b[1;34m(zip_file, map_location, pickle_module, pickle_file, **pickle_load_args)\u001b[0m\n\u001b[0;32m    849\u001b[0m     \u001b[0munpickler\u001b[0m \u001b[1;33m=\u001b[0m \u001b[0mpickle_module\u001b[0m\u001b[1;33m.\u001b[0m\u001b[0mUnpickler\u001b[0m\u001b[1;33m(\u001b[0m\u001b[0mdata_file\u001b[0m\u001b[1;33m,\u001b[0m \u001b[1;33m**\u001b[0m\u001b[0mpickle_load_args\u001b[0m\u001b[1;33m)\u001b[0m\u001b[1;33m\u001b[0m\u001b[1;33m\u001b[0m\u001b[0m\n\u001b[0;32m    850\u001b[0m     \u001b[0munpickler\u001b[0m\u001b[1;33m.\u001b[0m\u001b[0mpersistent_load\u001b[0m \u001b[1;33m=\u001b[0m \u001b[0mpersistent_load\u001b[0m\u001b[1;33m\u001b[0m\u001b[1;33m\u001b[0m\u001b[0m\n\u001b[1;32m--> 851\u001b[1;33m     \u001b[0mresult\u001b[0m \u001b[1;33m=\u001b[0m \u001b[0munpickler\u001b[0m\u001b[1;33m.\u001b[0m\u001b[0mload\u001b[0m\u001b[1;33m(\u001b[0m\u001b[1;33m)\u001b[0m\u001b[1;33m\u001b[0m\u001b[1;33m\u001b[0m\u001b[0m\n\u001b[0m\u001b[0;32m    852\u001b[0m \u001b[1;33m\u001b[0m\u001b[0m\n\u001b[0;32m    853\u001b[0m     \u001b[0mtorch\u001b[0m\u001b[1;33m.\u001b[0m\u001b[0m_utils\u001b[0m\u001b[1;33m.\u001b[0m\u001b[0m_validate_loaded_sparse_tensors\u001b[0m\u001b[1;33m(\u001b[0m\u001b[1;33m)\u001b[0m\u001b[1;33m\u001b[0m\u001b[1;33m\u001b[0m\u001b[0m\n",
      "\u001b[1;31mAttributeError\u001b[0m: Can't get attribute 'get_x' on <module '__main__'>"
     ]
    }
   ],
   "source": [
    "learn_inf = load_learner('KM_classifier_multilabel_7_epoch.pkl')\n",
    "\n",
    "btn_upload = widgets.FileUpload()\n",
    "out_pl = widgets.Output()\n",
    "lbl_pred = widgets.Label()\n",
    "btn_run = widgets.Button(description='Classify')\n",
    "\n",
    "def on_click_classify(change):\n",
    "    img = PILImage.create(btn_upload.data[-1])\n",
    "    out_pl.clear_output()\n",
    "    with out_pl: display(img.to_thumb(128,128))\n",
    "        \n",
    "    # Choose classification method\n",
    "    \n",
    "    # Bow prediction -------------------------------------------------\n",
    "    #pred, prob, max_prob = bow_predictor_app_inp(img)\n",
    "    \n",
    "    # Fastai prediction ----------------------------------------------\n",
    "    pred, prob, max_prob = fastai_predictor_app_inp(img) # not working\n",
    "    \n",
    "    # Ensemble prediction --------------------------------------------\n",
    "    #pred, prob = ensemble_predictor_app_inp(img) \n",
    "    \n",
    "    lbl_pred.value = f'Prediction: {pred}, Prob: {prob}'\n",
    "\n",
    "btn_run.on_click(on_click_classify)"
   ]
  },
  {
   "cell_type": "code",
   "execution_count": 5,
   "metadata": {},
   "outputs": [
    {
     "data": {
      "application/vnd.jupyter.widget-view+json": {
       "model_id": "8c01ad9c4e0f4b89ad0aa432a2c03569",
       "version_major": 2,
       "version_minor": 0
      },
      "text/plain": [
       "VBox(children=(Label(value='Please upload an image'), FileUpload(value={}, description='Upload'), Button(descr…"
      ]
     },
     "metadata": {},
     "output_type": "display_data"
    },
    {
     "data": {
      "text/html": [],
      "text/plain": [
       "<IPython.core.display.HTML object>"
      ]
     },
     "metadata": {},
     "output_type": "display_data"
    }
   ],
   "source": [
    "VBox([widgets.Label('Please upload an image'), \n",
    "      btn_upload, btn_run, out_pl, lbl_pred])"
   ]
  },
  {
   "cell_type": "markdown",
   "metadata": {},
   "source": [
    "# Turn it into a real app"
   ]
  },
  {
   "cell_type": "code",
   "execution_count": 34,
   "metadata": {},
   "outputs": [
    {
     "name": "stdout",
     "output_type": "stream",
     "text": [
      "Collecting pyqt5\n",
      "  Downloading PyQt5-5.15.4-cp36.cp37.cp38.cp39-none-win_amd64.whl (6.8 MB)\n",
      "Collecting PyQt5-Qt5>=5.15\n",
      "  Downloading PyQt5_Qt5-5.15.2-py3-none-win_amd64.whl (50.1 MB)\n",
      "Collecting PyQt5-sip<13,>=12.8\n",
      "  Downloading PyQt5_sip-12.8.1-cp39-cp39-win_amd64.whl (63 kB)\n",
      "Installing collected packages: PyQt5-sip, PyQt5-Qt5, pyqt5\n",
      "Successfully installed PyQt5-Qt5-5.15.2 PyQt5-sip-12.8.1 pyqt5-5.15.4\n",
      "Collecting pyqtwebengine\n",
      "  Downloading PyQtWebEngine-5.15.4-cp36.cp37.cp38.cp39-none-win_amd64.whl (182 kB)\n",
      "Collecting PyQtWebEngine-Qt5>=5.15\n",
      "  Downloading PyQtWebEngine_Qt5-5.15.2-py3-none-win_amd64.whl (60.0 MB)\n",
      "Requirement already satisfied: PyQt5>=5.15.4 in c:\\users\\sam bradley\\appdata\\local\\programs\\python\\python39\\lib\\site-packages (from pyqtwebengine) (5.15.4)\n",
      "Requirement already satisfied: PyQt5-sip<13,>=12.8 in c:\\users\\sam bradley\\appdata\\local\\programs\\python\\python39\\lib\\site-packages (from pyqtwebengine) (12.8.1)\n",
      "Requirement already satisfied: PyQt5-Qt5>=5.15 in c:\\users\\sam bradley\\appdata\\local\\programs\\python\\python39\\lib\\site-packages (from PyQt5>=5.15.4->pyqtwebengine) (5.15.2)\n",
      "Installing collected packages: PyQtWebEngine-Qt5, pyqtwebengine\n",
      "Successfully installed PyQtWebEngine-Qt5-5.15.2 pyqtwebengine-5.15.4\n",
      "Requirement already satisfied: nbconvert in c:\\users\\sam bradley\\appdata\\local\\programs\\python\\python39\\lib\\site-packages (6.0.0)\n",
      "Requirement already satisfied: traitlets>=4.2 in c:\\users\\sam bradley\\appdata\\local\\programs\\python\\python39\\lib\\site-packages (from nbconvert) (5.0.5)\n",
      "Requirement already satisfied: jupyterlab-pygments in c:\\users\\sam bradley\\appdata\\local\\programs\\python\\python39\\lib\\site-packages (from nbconvert) (0.1.2)\n",
      "Requirement already satisfied: testpath in c:\\users\\sam bradley\\appdata\\local\\programs\\python\\python39\\lib\\site-packages (from nbconvert) (0.4.4)\n",
      "Requirement already satisfied: defusedxml in c:\\users\\sam bradley\\appdata\\local\\programs\\python\\python39\\lib\\site-packages (from nbconvert) (0.7.1)\n",
      "Requirement already satisfied: nbformat>=4.4 in c:\\users\\sam bradley\\appdata\\local\\programs\\python\\python39\\lib\\site-packages (from nbconvert) (5.1.3)\n",
      "Requirement already satisfied: pandocfilters>=1.4.1 in c:\\users\\sam bradley\\appdata\\local\\programs\\python\\python39\\lib\\site-packages (from nbconvert) (1.4.3)\n",
      "Requirement already satisfied: jinja2>=2.4 in c:\\users\\sam bradley\\appdata\\local\\programs\\python\\python39\\lib\\site-packages (from nbconvert) (2.11.3)\n",
      "Requirement already satisfied: bleach in c:\\users\\sam bradley\\appdata\\local\\programs\\python\\python39\\lib\\site-packages (from nbconvert) (3.3.0)\n",
      "Requirement already satisfied: nbclient<0.6.0,>=0.5.0 in c:\\users\\sam bradley\\appdata\\local\\programs\\python\\python39\\lib\\site-packages (from nbconvert) (0.5.3)\n",
      "Requirement already satisfied: entrypoints>=0.2.2 in c:\\users\\sam bradley\\appdata\\local\\programs\\python\\python39\\lib\\site-packages (from nbconvert) (0.3)\n",
      "Requirement already satisfied: mistune<2,>=0.8.1 in c:\\users\\sam bradley\\appdata\\local\\programs\\python\\python39\\lib\\site-packages (from nbconvert) (0.8.4)\n",
      "Requirement already satisfied: pygments>=2.4.1 in c:\\users\\sam bradley\\appdata\\local\\programs\\python\\python39\\lib\\site-packages (from nbconvert) (2.8.1)\n",
      "Requirement already satisfied: jupyter-core in c:\\users\\sam bradley\\appdata\\local\\programs\\python\\python39\\lib\\site-packages (from nbconvert) (4.7.1)\n",
      "Requirement already satisfied: MarkupSafe>=0.23 in c:\\users\\sam bradley\\appdata\\local\\programs\\python\\python39\\lib\\site-packages (from jinja2>=2.4->nbconvert) (1.1.1)\n",
      "Requirement already satisfied: nest-asyncio in c:\\users\\sam bradley\\appdata\\local\\programs\\python\\python39\\lib\\site-packages (from nbclient<0.6.0,>=0.5.0->nbconvert) (1.5.1)\n",
      "Requirement already satisfied: jupyter-client>=6.1.5 in c:\\users\\sam bradley\\appdata\\local\\programs\\python\\python39\\lib\\site-packages (from nbclient<0.6.0,>=0.5.0->nbconvert) (6.1.12)\n",
      "Requirement already satisfied: async-generator in c:\\users\\sam bradley\\appdata\\local\\programs\\python\\python39\\lib\\site-packages (from nbclient<0.6.0,>=0.5.0->nbconvert) (1.10)\n",
      "Requirement already satisfied: python-dateutil>=2.1 in c:\\users\\sam bradley\\appdata\\local\\programs\\python\\python39\\lib\\site-packages (from jupyter-client>=6.1.5->nbclient<0.6.0,>=0.5.0->nbconvert) (2.8.1)\n",
      "Requirement already satisfied: tornado>=4.1 in c:\\users\\sam bradley\\appdata\\local\\programs\\python\\python39\\lib\\site-packages (from jupyter-client>=6.1.5->nbclient<0.6.0,>=0.5.0->nbconvert) (6.1)\n",
      "Requirement already satisfied: pyzmq>=13 in c:\\users\\sam bradley\\appdata\\local\\programs\\python\\python39\\lib\\site-packages (from jupyter-client>=6.1.5->nbclient<0.6.0,>=0.5.0->nbconvert) (22.0.3)\n",
      "Requirement already satisfied: pywin32>=1.0 in c:\\users\\sam bradley\\appdata\\local\\programs\\python\\python39\\lib\\site-packages (from jupyter-core->nbconvert) (300)\n",
      "Requirement already satisfied: jsonschema!=2.5.0,>=2.4 in c:\\users\\sam bradley\\appdata\\local\\programs\\python\\python39\\lib\\site-packages (from nbformat>=4.4->nbconvert) (3.2.0)\n",
      "Requirement already satisfied: ipython-genutils in c:\\users\\sam bradley\\appdata\\local\\programs\\python\\python39\\lib\\site-packages (from nbformat>=4.4->nbconvert) (0.2.0)\n",
      "Requirement already satisfied: six>=1.11.0 in c:\\users\\sam bradley\\appdata\\local\\programs\\python\\python39\\lib\\site-packages (from jsonschema!=2.5.0,>=2.4->nbformat>=4.4->nbconvert) (1.15.0)\n",
      "Requirement already satisfied: attrs>=17.4.0 in c:\\users\\sam bradley\\appdata\\local\\programs\\python\\python39\\lib\\site-packages (from jsonschema!=2.5.0,>=2.4->nbformat>=4.4->nbconvert) (20.3.0)\n",
      "Requirement already satisfied: setuptools in c:\\users\\sam bradley\\appdata\\local\\programs\\python\\python39\\lib\\site-packages (from jsonschema!=2.5.0,>=2.4->nbformat>=4.4->nbconvert) (49.2.1)\n",
      "Requirement already satisfied: pyrsistent>=0.14.0 in c:\\users\\sam bradley\\appdata\\local\\programs\\python\\python39\\lib\\site-packages (from jsonschema!=2.5.0,>=2.4->nbformat>=4.4->nbconvert) (0.17.3)\n",
      "Requirement already satisfied: packaging in c:\\users\\sam bradley\\appdata\\local\\programs\\python\\python39\\lib\\site-packages (from bleach->nbconvert) (20.9)\n",
      "Requirement already satisfied: webencodings in c:\\users\\sam bradley\\appdata\\local\\programs\\python\\python39\\lib\\site-packages (from bleach->nbconvert) (0.5.1)\n",
      "Requirement already satisfied: pyparsing>=2.0.2 in c:\\users\\sam bradley\\appdata\\local\\programs\\python\\python39\\lib\\site-packages (from packaging->bleach->nbconvert) (2.4.7)\n",
      "Requirement already satisfied: voila in c:\\users\\sam bradley\\appdata\\local\\programs\\python\\python39\\lib\\site-packages (0.2.7)\n",
      "Requirement already satisfied: jupyter-client<7,>=6.1.3 in c:\\users\\sam bradley\\appdata\\local\\programs\\python\\python39\\lib\\site-packages (from voila) (6.1.12)\n",
      "Requirement already satisfied: jupyter-server<2.0.0,>=0.3.0 in c:\\users\\sam bradley\\appdata\\local\\programs\\python\\python39\\lib\\site-packages (from voila) (1.5.1)\n",
      "Requirement already satisfied: nbconvert<7,>=6.0.0 in c:\\users\\sam bradley\\appdata\\local\\programs\\python\\python39\\lib\\site-packages (from voila) (6.0.0)\n",
      "Requirement already satisfied: nbclient<0.6,>=0.4.0 in c:\\users\\sam bradley\\appdata\\local\\programs\\python\\python39\\lib\\site-packages (from voila) (0.5.3)\n",
      "Requirement already satisfied: pyzmq>=13 in c:\\users\\sam bradley\\appdata\\local\\programs\\python\\python39\\lib\\site-packages (from jupyter-client<7,>=6.1.3->voila) (22.0.3)\n",
      "Requirement already satisfied: tornado>=4.1 in c:\\users\\sam bradley\\appdata\\local\\programs\\python\\python39\\lib\\site-packages (from jupyter-client<7,>=6.1.3->voila) (6.1)\n",
      "Requirement already satisfied: python-dateutil>=2.1 in c:\\users\\sam bradley\\appdata\\local\\programs\\python\\python39\\lib\\site-packages (from jupyter-client<7,>=6.1.3->voila) (2.8.1)\n",
      "Requirement already satisfied: jupyter-core>=4.6.0 in c:\\users\\sam bradley\\appdata\\local\\programs\\python\\python39\\lib\\site-packages (from jupyter-client<7,>=6.1.3->voila) (4.7.1)\n",
      "Requirement already satisfied: traitlets in c:\\users\\sam bradley\\appdata\\local\\programs\\python\\python39\\lib\\site-packages (from jupyter-client<7,>=6.1.3->voila) (5.0.5)\n",
      "Requirement already satisfied: pywin32>=1.0 in c:\\users\\sam bradley\\appdata\\local\\programs\\python\\python39\\lib\\site-packages (from jupyter-core>=4.6.0->jupyter-client<7,>=6.1.3->voila) (300)\n",
      "Requirement already satisfied: terminado>=0.8.3 in c:\\users\\sam bradley\\appdata\\local\\programs\\python\\python39\\lib\\site-packages (from jupyter-server<2.0.0,>=0.3.0->voila) (0.9.4)\n",
      "Requirement already satisfied: anyio>=2.0.2 in c:\\users\\sam bradley\\appdata\\local\\programs\\python\\python39\\lib\\site-packages (from jupyter-server<2.0.0,>=0.3.0->voila) (2.2.0)\n",
      "Requirement already satisfied: jinja2 in c:\\users\\sam bradley\\appdata\\local\\programs\\python\\python39\\lib\\site-packages (from jupyter-server<2.0.0,>=0.3.0->voila) (2.11.3)\n",
      "Requirement already satisfied: prometheus-client in c:\\users\\sam bradley\\appdata\\local\\programs\\python\\python39\\lib\\site-packages (from jupyter-server<2.0.0,>=0.3.0->voila) (0.10.0)\n",
      "Requirement already satisfied: ipython-genutils in c:\\users\\sam bradley\\appdata\\local\\programs\\python\\python39\\lib\\site-packages (from jupyter-server<2.0.0,>=0.3.0->voila) (0.2.0)\n",
      "Requirement already satisfied: Send2Trash in c:\\users\\sam bradley\\appdata\\local\\programs\\python\\python39\\lib\\site-packages (from jupyter-server<2.0.0,>=0.3.0->voila) (1.5.0)\n",
      "Requirement already satisfied: argon2-cffi in c:\\users\\sam bradley\\appdata\\local\\programs\\python\\python39\\lib\\site-packages (from jupyter-server<2.0.0,>=0.3.0->voila) (20.1.0)\n",
      "Requirement already satisfied: nbformat in c:\\users\\sam bradley\\appdata\\local\\programs\\python\\python39\\lib\\site-packages (from jupyter-server<2.0.0,>=0.3.0->voila) (5.1.3)\n",
      "Requirement already satisfied: idna>=2.8 in c:\\users\\sam bradley\\appdata\\local\\programs\\python\\python39\\lib\\site-packages (from anyio>=2.0.2->jupyter-server<2.0.0,>=0.3.0->voila) (2.10)\n",
      "Requirement already satisfied: sniffio>=1.1 in c:\\users\\sam bradley\\appdata\\local\\programs\\python\\python39\\lib\\site-packages (from anyio>=2.0.2->jupyter-server<2.0.0,>=0.3.0->voila) (1.2.0)\n",
      "Requirement already satisfied: nest-asyncio in c:\\users\\sam bradley\\appdata\\local\\programs\\python\\python39\\lib\\site-packages (from nbclient<0.6,>=0.4.0->voila) (1.5.1)\n",
      "Requirement already satisfied: async-generator in c:\\users\\sam bradley\\appdata\\local\\programs\\python\\python39\\lib\\site-packages (from nbclient<0.6,>=0.4.0->voila) (1.10)\n",
      "Requirement already satisfied: mistune<2,>=0.8.1 in c:\\users\\sam bradley\\appdata\\local\\programs\\python\\python39\\lib\\site-packages (from nbconvert<7,>=6.0.0->voila) (0.8.4)\n",
      "Requirement already satisfied: pandocfilters>=1.4.1 in c:\\users\\sam bradley\\appdata\\local\\programs\\python\\python39\\lib\\site-packages (from nbconvert<7,>=6.0.0->voila) (1.4.3)\n",
      "Requirement already satisfied: entrypoints>=0.2.2 in c:\\users\\sam bradley\\appdata\\local\\programs\\python\\python39\\lib\\site-packages (from nbconvert<7,>=6.0.0->voila) (0.3)\n",
      "Requirement already satisfied: jupyterlab-pygments in c:\\users\\sam bradley\\appdata\\local\\programs\\python\\python39\\lib\\site-packages (from nbconvert<7,>=6.0.0->voila) (0.1.2)\n",
      "Requirement already satisfied: testpath in c:\\users\\sam bradley\\appdata\\local\\programs\\python\\python39\\lib\\site-packages (from nbconvert<7,>=6.0.0->voila) (0.4.4)\n",
      "Requirement already satisfied: defusedxml in c:\\users\\sam bradley\\appdata\\local\\programs\\python\\python39\\lib\\site-packages (from nbconvert<7,>=6.0.0->voila) (0.7.1)\n",
      "Requirement already satisfied: bleach in c:\\users\\sam bradley\\appdata\\local\\programs\\python\\python39\\lib\\site-packages (from nbconvert<7,>=6.0.0->voila) (3.3.0)\n",
      "Requirement already satisfied: pygments>=2.4.1 in c:\\users\\sam bradley\\appdata\\local\\programs\\python\\python39\\lib\\site-packages (from nbconvert<7,>=6.0.0->voila) (2.8.1)\n",
      "Requirement already satisfied: MarkupSafe>=0.23 in c:\\users\\sam bradley\\appdata\\local\\programs\\python\\python39\\lib\\site-packages (from jinja2->jupyter-server<2.0.0,>=0.3.0->voila) (1.1.1)\n",
      "Requirement already satisfied: jsonschema!=2.5.0,>=2.4 in c:\\users\\sam bradley\\appdata\\local\\programs\\python\\python39\\lib\\site-packages (from nbformat->jupyter-server<2.0.0,>=0.3.0->voila) (3.2.0)\n",
      "Requirement already satisfied: six>=1.11.0 in c:\\users\\sam bradley\\appdata\\local\\programs\\python\\python39\\lib\\site-packages (from jsonschema!=2.5.0,>=2.4->nbformat->jupyter-server<2.0.0,>=0.3.0->voila) (1.15.0)\n",
      "Requirement already satisfied: attrs>=17.4.0 in c:\\users\\sam bradley\\appdata\\local\\programs\\python\\python39\\lib\\site-packages (from jsonschema!=2.5.0,>=2.4->nbformat->jupyter-server<2.0.0,>=0.3.0->voila) (20.3.0)\n",
      "Requirement already satisfied: pyrsistent>=0.14.0 in c:\\users\\sam bradley\\appdata\\local\\programs\\python\\python39\\lib\\site-packages (from jsonschema!=2.5.0,>=2.4->nbformat->jupyter-server<2.0.0,>=0.3.0->voila) (0.17.3)\n",
      "Requirement already satisfied: setuptools in c:\\users\\sam bradley\\appdata\\local\\programs\\python\\python39\\lib\\site-packages (from jsonschema!=2.5.0,>=2.4->nbformat->jupyter-server<2.0.0,>=0.3.0->voila) (49.2.1)\n",
      "Requirement already satisfied: pywinpty>=0.5 in c:\\users\\sam bradley\\appdata\\local\\programs\\python\\python39\\lib\\site-packages (from terminado>=0.8.3->jupyter-server<2.0.0,>=0.3.0->voila) (0.5.7)\n",
      "Requirement already satisfied: cffi>=1.0.0 in c:\\users\\sam bradley\\appdata\\local\\programs\\python\\python39\\lib\\site-packages (from argon2-cffi->jupyter-server<2.0.0,>=0.3.0->voila) (1.14.5)\n",
      "Requirement already satisfied: pycparser in c:\\users\\sam bradley\\appdata\\local\\programs\\python\\python39\\lib\\site-packages (from cffi>=1.0.0->argon2-cffi->jupyter-server<2.0.0,>=0.3.0->voila) (2.20)\n",
      "Requirement already satisfied: packaging in c:\\users\\sam bradley\\appdata\\local\\programs\\python\\python39\\lib\\site-packages (from bleach->nbconvert<7,>=6.0.0->voila) (20.9)\n",
      "Requirement already satisfied: webencodings in c:\\users\\sam bradley\\appdata\\local\\programs\\python\\python39\\lib\\site-packages (from bleach->nbconvert<7,>=6.0.0->voila) (0.5.1)\n",
      "Requirement already satisfied: pyparsing>=2.0.2 in c:\\users\\sam bradley\\appdata\\local\\programs\\python\\python39\\lib\\site-packages (from packaging->bleach->nbconvert<7,>=6.0.0->voila) (2.4.7)\n"
     ]
    }
   ],
   "source": [
    "!pip install pyqt5 \n",
    "!pip install pyqtwebengine \n",
    "!pip install nbconvert \n",
    "!pip install voila"
   ]
  },
  {
   "cell_type": "code",
   "execution_count": 35,
   "metadata": {},
   "outputs": [],
   "source": [
    "import voila"
   ]
  },
  {
   "cell_type": "code",
   "execution_count": 36,
   "metadata": {},
   "outputs": [
    {
     "name": "stderr",
     "output_type": "stream",
     "text": [
      "Enabling: voila\n",
      "- Writing config: c:\\users\\sam bradley\\appdata\\local\\programs\\python\\python39\\etc\\jupyter\n",
      "    - Validating...\n",
      "      voila 0.2.7 ok\n"
     ]
    }
   ],
   "source": [
    "!jupyter serverextension enable voila --sys-prefix"
   ]
  },
  {
   "cell_type": "code",
   "execution_count": 21,
   "metadata": {},
   "outputs": [
    {
     "name": "stderr",
     "output_type": "stream",
     "text": [
      "usage: jupyter [-h] [--version] [--config-dir] [--data-dir] [--runtime-dir]\n",
      "               [--paths] [--json] [--debug]\n",
      "               [subcommand]\n",
      "jupyter: error: one of the arguments --version subcommand --config-dir --data-dir --runtime-dir --paths is required\n"
     ]
    }
   ],
   "source": [
    "!jupyter"
   ]
  },
  {
   "cell_type": "code",
   "execution_count": null,
   "metadata": {},
   "outputs": [],
   "source": []
  }
 ],
 "metadata": {
  "kernelspec": {
   "display_name": "Python 3",
   "language": "python",
   "name": "python3"
  },
  "language_info": {
   "codemirror_mode": {
    "name": "ipython",
    "version": 3
   },
   "file_extension": ".py",
   "mimetype": "text/x-python",
   "name": "python",
   "nbconvert_exporter": "python",
   "pygments_lexer": "ipython3",
   "version": "3.9.4"
  }
 },
 "nbformat": 4,
 "nbformat_minor": 2
}
